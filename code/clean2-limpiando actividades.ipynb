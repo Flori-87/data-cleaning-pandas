{
 "cells": [
  {
   "cell_type": "code",
   "execution_count": 3,
   "metadata": {},
   "outputs": [],
   "source": [
    "import numpy as np\n",
    "import pandas as pd\n",
    "import re"
   ]
  },
  {
   "cell_type": "code",
   "execution_count": 4,
   "metadata": {},
   "outputs": [
    {
     "data": {
      "text/html": [
       "<div>\n",
       "<style scoped>\n",
       "    .dataframe tbody tr th:only-of-type {\n",
       "        vertical-align: middle;\n",
       "    }\n",
       "\n",
       "    .dataframe tbody tr th {\n",
       "        vertical-align: top;\n",
       "    }\n",
       "\n",
       "    .dataframe thead th {\n",
       "        text-align: right;\n",
       "    }\n",
       "</style>\n",
       "<table border=\"1\" class=\"dataframe\">\n",
       "  <thead>\n",
       "    <tr style=\"text-align: right;\">\n",
       "      <th></th>\n",
       "      <th>Unnamed: 0</th>\n",
       "      <th>Type</th>\n",
       "      <th>Country</th>\n",
       "      <th>Area</th>\n",
       "      <th>Location</th>\n",
       "      <th>Activity</th>\n",
       "      <th>Name</th>\n",
       "      <th>Sex</th>\n",
       "      <th>Age</th>\n",
       "      <th>Injury</th>\n",
       "      <th>Fatal (Y/N)</th>\n",
       "      <th>Time</th>\n",
       "      <th>Species</th>\n",
       "      <th>Investigator or Source</th>\n",
       "      <th>pdf</th>\n",
       "      <th>href formula</th>\n",
       "      <th>href</th>\n",
       "      <th>original order</th>\n",
       "      <th>Date</th>\n",
       "    </tr>\n",
       "  </thead>\n",
       "  <tbody>\n",
       "    <tr>\n",
       "      <th>0</th>\n",
       "      <td>0</td>\n",
       "      <td>Boating</td>\n",
       "      <td>USA</td>\n",
       "      <td>California</td>\n",
       "      <td>Oceanside, San Diego County</td>\n",
       "      <td>Paddling</td>\n",
       "      <td>Julie Wolfe</td>\n",
       "      <td>F</td>\n",
       "      <td>57</td>\n",
       "      <td>No injury to occupant, outrigger canoe and pad...</td>\n",
       "      <td>N</td>\n",
       "      <td>18h00</td>\n",
       "      <td>White shark</td>\n",
       "      <td>R. Collier, GSAF</td>\n",
       "      <td>2018.06.25-Wolfe.pdf</td>\n",
       "      <td>http://sharkattackfile.net/spreadsheets/pdf_di...</td>\n",
       "      <td>http://sharkattackfile.net/spreadsheets/pdf_di...</td>\n",
       "      <td>6303.0</td>\n",
       "      <td>2018</td>\n",
       "    </tr>\n",
       "    <tr>\n",
       "      <th>1</th>\n",
       "      <td>1</td>\n",
       "      <td>Unprovoked</td>\n",
       "      <td>USA</td>\n",
       "      <td>Georgia</td>\n",
       "      <td>St. Simon Island, Glynn County</td>\n",
       "      <td>Standing</td>\n",
       "      <td>Adyson McNeely</td>\n",
       "      <td>F</td>\n",
       "      <td>11</td>\n",
       "      <td>Minor injury to left thigh</td>\n",
       "      <td>N</td>\n",
       "      <td>14h00  -15h00</td>\n",
       "      <td>NaN</td>\n",
       "      <td>K.McMurray, TrackingSharks.com</td>\n",
       "      <td>2018.06.18-McNeely.pdf</td>\n",
       "      <td>http://sharkattackfile.net/spreadsheets/pdf_di...</td>\n",
       "      <td>http://sharkattackfile.net/spreadsheets/pdf_di...</td>\n",
       "      <td>6302.0</td>\n",
       "      <td>2018</td>\n",
       "    </tr>\n",
       "    <tr>\n",
       "      <th>2</th>\n",
       "      <td>2</td>\n",
       "      <td>Invalid</td>\n",
       "      <td>USA</td>\n",
       "      <td>Hawaii</td>\n",
       "      <td>Habush, Oahu</td>\n",
       "      <td>Surfing</td>\n",
       "      <td>John Denges</td>\n",
       "      <td>M</td>\n",
       "      <td>48</td>\n",
       "      <td>Injury to left lower leg from surfboard skeg</td>\n",
       "      <td>N</td>\n",
       "      <td>07h45</td>\n",
       "      <td>NaN</td>\n",
       "      <td>K.McMurray, TrackingSharks.com</td>\n",
       "      <td>2018.06.09-Denges.pdf</td>\n",
       "      <td>http://sharkattackfile.net/spreadsheets/pdf_di...</td>\n",
       "      <td>http://sharkattackfile.net/spreadsheets/pdf_di...</td>\n",
       "      <td>6301.0</td>\n",
       "      <td>2018</td>\n",
       "    </tr>\n",
       "    <tr>\n",
       "      <th>3</th>\n",
       "      <td>3</td>\n",
       "      <td>Unprovoked</td>\n",
       "      <td>AUSTRALIA</td>\n",
       "      <td>New South Wales</td>\n",
       "      <td>Arrawarra Headland</td>\n",
       "      <td>Surfing</td>\n",
       "      <td>male</td>\n",
       "      <td>M</td>\n",
       "      <td>NaN</td>\n",
       "      <td>Minor injury to lower leg</td>\n",
       "      <td>N</td>\n",
       "      <td>NaN</td>\n",
       "      <td>2 m shark</td>\n",
       "      <td>B. Myatt, GSAF</td>\n",
       "      <td>2018.06.08-Arrawarra.pdf</td>\n",
       "      <td>http://sharkattackfile.net/spreadsheets/pdf_di...</td>\n",
       "      <td>http://sharkattackfile.net/spreadsheets/pdf_di...</td>\n",
       "      <td>6300.0</td>\n",
       "      <td>2018</td>\n",
       "    </tr>\n",
       "    <tr>\n",
       "      <th>4</th>\n",
       "      <td>4</td>\n",
       "      <td>Provoked</td>\n",
       "      <td>MEXICO</td>\n",
       "      <td>Colima</td>\n",
       "      <td>La Ticla</td>\n",
       "      <td>Free diving</td>\n",
       "      <td>Gustavo Ramos</td>\n",
       "      <td>M</td>\n",
       "      <td>NaN</td>\n",
       "      <td>Lacerations to leg &amp; hand shark PROVOKED INCIDENT</td>\n",
       "      <td>N</td>\n",
       "      <td>NaN</td>\n",
       "      <td>Tiger shark, 3m</td>\n",
       "      <td>A .Kipper</td>\n",
       "      <td>2018.06.04-Ramos.pdf</td>\n",
       "      <td>http://sharkattackfile.net/spreadsheets/pdf_di...</td>\n",
       "      <td>http://sharkattackfile.net/spreadsheets/pdf_di...</td>\n",
       "      <td>6299.0</td>\n",
       "      <td>2018</td>\n",
       "    </tr>\n",
       "    <tr>\n",
       "      <th>...</th>\n",
       "      <td>...</td>\n",
       "      <td>...</td>\n",
       "      <td>...</td>\n",
       "      <td>...</td>\n",
       "      <td>...</td>\n",
       "      <td>...</td>\n",
       "      <td>...</td>\n",
       "      <td>...</td>\n",
       "      <td>...</td>\n",
       "      <td>...</td>\n",
       "      <td>...</td>\n",
       "      <td>...</td>\n",
       "      <td>...</td>\n",
       "      <td>...</td>\n",
       "      <td>...</td>\n",
       "      <td>...</td>\n",
       "      <td>...</td>\n",
       "      <td>...</td>\n",
       "      <td>...</td>\n",
       "    </tr>\n",
       "    <tr>\n",
       "      <th>6297</th>\n",
       "      <td>6297</td>\n",
       "      <td>Unprovoked</td>\n",
       "      <td>AUSTRALIA</td>\n",
       "      <td>Western Australia</td>\n",
       "      <td>Roebuck Bay</td>\n",
       "      <td>Diving</td>\n",
       "      <td>male</td>\n",
       "      <td>M</td>\n",
       "      <td>NaN</td>\n",
       "      <td>FATAL</td>\n",
       "      <td>Y</td>\n",
       "      <td>NaN</td>\n",
       "      <td>NaN</td>\n",
       "      <td>H. Taunton; N. Bartlett,  p. 234</td>\n",
       "      <td>ND-0005-RoebuckBay.pdf</td>\n",
       "      <td>http://sharkattackfile.net/spreadsheets/pdf_di...</td>\n",
       "      <td>http://sharkattackfile.net/spreadsheets/pdf_di...</td>\n",
       "      <td>6.0</td>\n",
       "      <td>1903</td>\n",
       "    </tr>\n",
       "    <tr>\n",
       "      <th>6298</th>\n",
       "      <td>6298</td>\n",
       "      <td>Unprovoked</td>\n",
       "      <td>AUSTRALIA</td>\n",
       "      <td>Western Australia</td>\n",
       "      <td>NaN</td>\n",
       "      <td>Pearl diving</td>\n",
       "      <td>Ahmun</td>\n",
       "      <td>M</td>\n",
       "      <td>NaN</td>\n",
       "      <td>FATAL</td>\n",
       "      <td>Y</td>\n",
       "      <td>NaN</td>\n",
       "      <td>NaN</td>\n",
       "      <td>H. Taunton; N. Bartlett,  pp. 233-234</td>\n",
       "      <td>ND-0004-Ahmun.pdf</td>\n",
       "      <td>http://sharkattackfile.net/spreadsheets/pdf_di...</td>\n",
       "      <td>http://sharkattackfile.net/spreadsheets/pdf_di...</td>\n",
       "      <td>5.0</td>\n",
       "      <td>1903</td>\n",
       "    </tr>\n",
       "    <tr>\n",
       "      <th>6299</th>\n",
       "      <td>6299</td>\n",
       "      <td>Unprovoked</td>\n",
       "      <td>USA</td>\n",
       "      <td>North Carolina</td>\n",
       "      <td>Ocracoke Inlet</td>\n",
       "      <td>Swimming</td>\n",
       "      <td>Coast Guard personnel</td>\n",
       "      <td>M</td>\n",
       "      <td>NaN</td>\n",
       "      <td>FATAL</td>\n",
       "      <td>Y</td>\n",
       "      <td>NaN</td>\n",
       "      <td>NaN</td>\n",
       "      <td>F. Schwartz, p.23; C. Creswell, GSAF</td>\n",
       "      <td>ND-0003-Ocracoke_1900-1905.pdf</td>\n",
       "      <td>http://sharkattackfile.net/spreadsheets/pdf_di...</td>\n",
       "      <td>http://sharkattackfile.net/spreadsheets/pdf_di...</td>\n",
       "      <td>4.0</td>\n",
       "      <td>1900-1905</td>\n",
       "    </tr>\n",
       "    <tr>\n",
       "      <th>6300</th>\n",
       "      <td>6300</td>\n",
       "      <td>Unprovoked</td>\n",
       "      <td>PANAMA</td>\n",
       "      <td>NaN</td>\n",
       "      <td>Panama Bay 8ºN, 79ºW</td>\n",
       "      <td>NaN</td>\n",
       "      <td>Jules Patterson</td>\n",
       "      <td>M</td>\n",
       "      <td>NaN</td>\n",
       "      <td>FATAL</td>\n",
       "      <td>Y</td>\n",
       "      <td>NaN</td>\n",
       "      <td>NaN</td>\n",
       "      <td>The Sun, 10/20/1938</td>\n",
       "      <td>ND-0002-JulesPatterson.pdf</td>\n",
       "      <td>http://sharkattackfile.net/spreadsheets/pdf_di...</td>\n",
       "      <td>http://sharkattackfile.net/spreadsheets/pdf_di...</td>\n",
       "      <td>3.0</td>\n",
       "      <td>1883-1889</td>\n",
       "    </tr>\n",
       "    <tr>\n",
       "      <th>6301</th>\n",
       "      <td>6301</td>\n",
       "      <td>Unprovoked</td>\n",
       "      <td>CEYLON (SRI LANKA)</td>\n",
       "      <td>Eastern Province</td>\n",
       "      <td>Below the English fort, Trincomalee</td>\n",
       "      <td>Swimming</td>\n",
       "      <td>male</td>\n",
       "      <td>M</td>\n",
       "      <td>15</td>\n",
       "      <td>FATAL. \"Shark bit him in half, carrying away t...</td>\n",
       "      <td>Y</td>\n",
       "      <td>NaN</td>\n",
       "      <td>NaN</td>\n",
       "      <td>S.W. Baker</td>\n",
       "      <td>ND-0001-Ceylon.pdf</td>\n",
       "      <td>http://sharkattackfile.net/spreadsheets/pdf_di...</td>\n",
       "      <td>http://sharkattackfile.net/spreadsheets/pdf_di...</td>\n",
       "      <td>2.0</td>\n",
       "      <td>1845-1853</td>\n",
       "    </tr>\n",
       "  </tbody>\n",
       "</table>\n",
       "<p>6302 rows × 19 columns</p>\n",
       "</div>"
      ],
      "text/plain": [
       "      Unnamed: 0        Type             Country               Area  \\\n",
       "0              0     Boating                 USA         California   \n",
       "1              1  Unprovoked                 USA            Georgia   \n",
       "2              2     Invalid                 USA             Hawaii   \n",
       "3              3  Unprovoked           AUSTRALIA    New South Wales   \n",
       "4              4    Provoked              MEXICO             Colima   \n",
       "...          ...         ...                 ...                ...   \n",
       "6297        6297  Unprovoked           AUSTRALIA  Western Australia   \n",
       "6298        6298  Unprovoked           AUSTRALIA  Western Australia   \n",
       "6299        6299  Unprovoked                 USA     North Carolina   \n",
       "6300        6300  Unprovoked              PANAMA                NaN   \n",
       "6301        6301  Unprovoked  CEYLON (SRI LANKA)   Eastern Province   \n",
       "\n",
       "                                 Location      Activity  \\\n",
       "0             Oceanside, San Diego County      Paddling   \n",
       "1          St. Simon Island, Glynn County      Standing   \n",
       "2                            Habush, Oahu       Surfing   \n",
       "3                      Arrawarra Headland       Surfing   \n",
       "4                                La Ticla   Free diving   \n",
       "...                                   ...           ...   \n",
       "6297                          Roebuck Bay        Diving   \n",
       "6298                                  NaN  Pearl diving   \n",
       "6299                       Ocracoke Inlet      Swimming   \n",
       "6300                 Panama Bay 8ºN, 79ºW           NaN   \n",
       "6301  Below the English fort, Trincomalee      Swimming   \n",
       "\n",
       "                       Name Sex   Age  \\\n",
       "0               Julie Wolfe    F   57   \n",
       "1           Adyson McNeely     F   11   \n",
       "2               John Denges    M   48   \n",
       "3                      male    M  NaN   \n",
       "4            Gustavo Ramos     M  NaN   \n",
       "...                     ...  ...  ...   \n",
       "6297                   male    M  NaN   \n",
       "6298                  Ahmun    M  NaN   \n",
       "6299  Coast Guard personnel    M  NaN   \n",
       "6300        Jules Patterson    M  NaN   \n",
       "6301                   male    M   15   \n",
       "\n",
       "                                                 Injury Fatal (Y/N)  \\\n",
       "0     No injury to occupant, outrigger canoe and pad...           N   \n",
       "1                            Minor injury to left thigh           N   \n",
       "2          Injury to left lower leg from surfboard skeg           N   \n",
       "3                             Minor injury to lower leg           N   \n",
       "4     Lacerations to leg & hand shark PROVOKED INCIDENT           N   \n",
       "...                                                 ...         ...   \n",
       "6297                                              FATAL           Y   \n",
       "6298                                              FATAL           Y   \n",
       "6299                                              FATAL           Y   \n",
       "6300                                              FATAL           Y   \n",
       "6301  FATAL. \"Shark bit him in half, carrying away t...           Y   \n",
       "\n",
       "               Time         Species                  Investigator or Source  \\\n",
       "0             18h00      White shark                       R. Collier, GSAF   \n",
       "1     14h00  -15h00              NaN         K.McMurray, TrackingSharks.com   \n",
       "2             07h45              NaN         K.McMurray, TrackingSharks.com   \n",
       "3               NaN        2 m shark                         B. Myatt, GSAF   \n",
       "4               NaN  Tiger shark, 3m                              A .Kipper   \n",
       "...             ...              ...                                    ...   \n",
       "6297            NaN              NaN       H. Taunton; N. Bartlett,  p. 234   \n",
       "6298            NaN              NaN  H. Taunton; N. Bartlett,  pp. 233-234   \n",
       "6299            NaN              NaN   F. Schwartz, p.23; C. Creswell, GSAF   \n",
       "6300            NaN              NaN                    The Sun, 10/20/1938   \n",
       "6301            NaN              NaN                             S.W. Baker   \n",
       "\n",
       "                                 pdf  \\\n",
       "0               2018.06.25-Wolfe.pdf   \n",
       "1             2018.06.18-McNeely.pdf   \n",
       "2              2018.06.09-Denges.pdf   \n",
       "3           2018.06.08-Arrawarra.pdf   \n",
       "4               2018.06.04-Ramos.pdf   \n",
       "...                              ...   \n",
       "6297          ND-0005-RoebuckBay.pdf   \n",
       "6298               ND-0004-Ahmun.pdf   \n",
       "6299  ND-0003-Ocracoke_1900-1905.pdf   \n",
       "6300      ND-0002-JulesPatterson.pdf   \n",
       "6301              ND-0001-Ceylon.pdf   \n",
       "\n",
       "                                           href formula  \\\n",
       "0     http://sharkattackfile.net/spreadsheets/pdf_di...   \n",
       "1     http://sharkattackfile.net/spreadsheets/pdf_di...   \n",
       "2     http://sharkattackfile.net/spreadsheets/pdf_di...   \n",
       "3     http://sharkattackfile.net/spreadsheets/pdf_di...   \n",
       "4     http://sharkattackfile.net/spreadsheets/pdf_di...   \n",
       "...                                                 ...   \n",
       "6297  http://sharkattackfile.net/spreadsheets/pdf_di...   \n",
       "6298  http://sharkattackfile.net/spreadsheets/pdf_di...   \n",
       "6299  http://sharkattackfile.net/spreadsheets/pdf_di...   \n",
       "6300  http://sharkattackfile.net/spreadsheets/pdf_di...   \n",
       "6301  http://sharkattackfile.net/spreadsheets/pdf_di...   \n",
       "\n",
       "                                                   href  original order  \\\n",
       "0     http://sharkattackfile.net/spreadsheets/pdf_di...          6303.0   \n",
       "1     http://sharkattackfile.net/spreadsheets/pdf_di...          6302.0   \n",
       "2     http://sharkattackfile.net/spreadsheets/pdf_di...          6301.0   \n",
       "3     http://sharkattackfile.net/spreadsheets/pdf_di...          6300.0   \n",
       "4     http://sharkattackfile.net/spreadsheets/pdf_di...          6299.0   \n",
       "...                                                 ...             ...   \n",
       "6297  http://sharkattackfile.net/spreadsheets/pdf_di...             6.0   \n",
       "6298  http://sharkattackfile.net/spreadsheets/pdf_di...             5.0   \n",
       "6299  http://sharkattackfile.net/spreadsheets/pdf_di...             4.0   \n",
       "6300  http://sharkattackfile.net/spreadsheets/pdf_di...             3.0   \n",
       "6301  http://sharkattackfile.net/spreadsheets/pdf_di...             2.0   \n",
       "\n",
       "           Date  \n",
       "0          2018  \n",
       "1          2018  \n",
       "2          2018  \n",
       "3          2018  \n",
       "4          2018  \n",
       "...         ...  \n",
       "6297       1903  \n",
       "6298       1903  \n",
       "6299  1900-1905  \n",
       "6300  1883-1889  \n",
       "6301  1845-1853  \n",
       "\n",
       "[6302 rows x 19 columns]"
      ]
     },
     "execution_count": 4,
     "metadata": {},
     "output_type": "execute_result"
    }
   ],
   "source": [
    "attacks1 = pd.read_csv(\"../../attack1.csv\")\n",
    "attacks1"
   ]
  },
  {
   "cell_type": "code",
   "execution_count": 5,
   "metadata": {},
   "outputs": [
    {
     "data": {
      "text/plain": [
       "Index(['Unnamed: 0', 'Type', 'Country', 'Area', 'Location', 'Activity', 'Name',\n",
       "       'Sex ', 'Age', 'Injury', 'Fatal (Y/N)', 'Time', 'Species ',\n",
       "       'Investigator or Source', 'pdf', 'href formula', 'href',\n",
       "       'original order', 'Date'],\n",
       "      dtype='object')"
      ]
     },
     "execution_count": 5,
     "metadata": {},
     "output_type": "execute_result"
    }
   ],
   "source": [
    "attacks1.columns"
   ]
  },
  {
   "cell_type": "code",
   "execution_count": 6,
   "metadata": {},
   "outputs": [
    {
     "data": {
      "text/plain": [
       "Unnamed: 0                   0\n",
       "Type                         4\n",
       "Country                     50\n",
       "Area                       455\n",
       "Location                   540\n",
       "Activity                   544\n",
       "Name                       210\n",
       "Sex                        565\n",
       "Age                       2831\n",
       "Injury                      28\n",
       "Fatal (Y/N)                539\n",
       "Time                      3354\n",
       "Species                   2838\n",
       "Investigator or Source      17\n",
       "pdf                          0\n",
       "href formula                 1\n",
       "href                         0\n",
       "original order               0\n",
       "Date                        19\n",
       "dtype: int64"
      ]
     },
     "execution_count": 6,
     "metadata": {},
     "output_type": "execute_result"
    }
   ],
   "source": [
    "attacks1.isnull().sum()"
   ]
  },
  {
   "cell_type": "code",
   "execution_count": 7,
   "metadata": {},
   "outputs": [
    {
     "data": {
      "text/html": [
       "<div>\n",
       "<style scoped>\n",
       "    .dataframe tbody tr th:only-of-type {\n",
       "        vertical-align: middle;\n",
       "    }\n",
       "\n",
       "    .dataframe tbody tr th {\n",
       "        vertical-align: top;\n",
       "    }\n",
       "\n",
       "    .dataframe thead th {\n",
       "        text-align: right;\n",
       "    }\n",
       "</style>\n",
       "<table border=\"1\" class=\"dataframe\">\n",
       "  <thead>\n",
       "    <tr style=\"text-align: right;\">\n",
       "      <th></th>\n",
       "      <th>Unnamed: 0</th>\n",
       "      <th>Type</th>\n",
       "      <th>Country</th>\n",
       "      <th>Area</th>\n",
       "      <th>Location</th>\n",
       "      <th>Activity</th>\n",
       "      <th>Name</th>\n",
       "      <th>Sex</th>\n",
       "      <th>Injury</th>\n",
       "      <th>Fatal (Y/N)</th>\n",
       "      <th>Date</th>\n",
       "    </tr>\n",
       "  </thead>\n",
       "  <tbody>\n",
       "    <tr>\n",
       "      <th>0</th>\n",
       "      <td>0</td>\n",
       "      <td>Boating</td>\n",
       "      <td>USA</td>\n",
       "      <td>California</td>\n",
       "      <td>Oceanside, San Diego County</td>\n",
       "      <td>Paddling</td>\n",
       "      <td>Julie Wolfe</td>\n",
       "      <td>F</td>\n",
       "      <td>No injury to occupant, outrigger canoe and pad...</td>\n",
       "      <td>N</td>\n",
       "      <td>2018</td>\n",
       "    </tr>\n",
       "    <tr>\n",
       "      <th>1</th>\n",
       "      <td>1</td>\n",
       "      <td>Unprovoked</td>\n",
       "      <td>USA</td>\n",
       "      <td>Georgia</td>\n",
       "      <td>St. Simon Island, Glynn County</td>\n",
       "      <td>Standing</td>\n",
       "      <td>Adyson McNeely</td>\n",
       "      <td>F</td>\n",
       "      <td>Minor injury to left thigh</td>\n",
       "      <td>N</td>\n",
       "      <td>2018</td>\n",
       "    </tr>\n",
       "    <tr>\n",
       "      <th>2</th>\n",
       "      <td>2</td>\n",
       "      <td>Invalid</td>\n",
       "      <td>USA</td>\n",
       "      <td>Hawaii</td>\n",
       "      <td>Habush, Oahu</td>\n",
       "      <td>Surfing</td>\n",
       "      <td>John Denges</td>\n",
       "      <td>M</td>\n",
       "      <td>Injury to left lower leg from surfboard skeg</td>\n",
       "      <td>N</td>\n",
       "      <td>2018</td>\n",
       "    </tr>\n",
       "    <tr>\n",
       "      <th>3</th>\n",
       "      <td>3</td>\n",
       "      <td>Unprovoked</td>\n",
       "      <td>AUSTRALIA</td>\n",
       "      <td>New South Wales</td>\n",
       "      <td>Arrawarra Headland</td>\n",
       "      <td>Surfing</td>\n",
       "      <td>male</td>\n",
       "      <td>M</td>\n",
       "      <td>Minor injury to lower leg</td>\n",
       "      <td>N</td>\n",
       "      <td>2018</td>\n",
       "    </tr>\n",
       "    <tr>\n",
       "      <th>4</th>\n",
       "      <td>4</td>\n",
       "      <td>Provoked</td>\n",
       "      <td>MEXICO</td>\n",
       "      <td>Colima</td>\n",
       "      <td>La Ticla</td>\n",
       "      <td>Free diving</td>\n",
       "      <td>Gustavo Ramos</td>\n",
       "      <td>M</td>\n",
       "      <td>Lacerations to leg &amp; hand shark PROVOKED INCIDENT</td>\n",
       "      <td>N</td>\n",
       "      <td>2018</td>\n",
       "    </tr>\n",
       "    <tr>\n",
       "      <th>...</th>\n",
       "      <td>...</td>\n",
       "      <td>...</td>\n",
       "      <td>...</td>\n",
       "      <td>...</td>\n",
       "      <td>...</td>\n",
       "      <td>...</td>\n",
       "      <td>...</td>\n",
       "      <td>...</td>\n",
       "      <td>...</td>\n",
       "      <td>...</td>\n",
       "      <td>...</td>\n",
       "    </tr>\n",
       "    <tr>\n",
       "      <th>6297</th>\n",
       "      <td>6297</td>\n",
       "      <td>Unprovoked</td>\n",
       "      <td>AUSTRALIA</td>\n",
       "      <td>Western Australia</td>\n",
       "      <td>Roebuck Bay</td>\n",
       "      <td>Diving</td>\n",
       "      <td>male</td>\n",
       "      <td>M</td>\n",
       "      <td>FATAL</td>\n",
       "      <td>Y</td>\n",
       "      <td>1903</td>\n",
       "    </tr>\n",
       "    <tr>\n",
       "      <th>6298</th>\n",
       "      <td>6298</td>\n",
       "      <td>Unprovoked</td>\n",
       "      <td>AUSTRALIA</td>\n",
       "      <td>Western Australia</td>\n",
       "      <td>NaN</td>\n",
       "      <td>Pearl diving</td>\n",
       "      <td>Ahmun</td>\n",
       "      <td>M</td>\n",
       "      <td>FATAL</td>\n",
       "      <td>Y</td>\n",
       "      <td>1903</td>\n",
       "    </tr>\n",
       "    <tr>\n",
       "      <th>6299</th>\n",
       "      <td>6299</td>\n",
       "      <td>Unprovoked</td>\n",
       "      <td>USA</td>\n",
       "      <td>North Carolina</td>\n",
       "      <td>Ocracoke Inlet</td>\n",
       "      <td>Swimming</td>\n",
       "      <td>Coast Guard personnel</td>\n",
       "      <td>M</td>\n",
       "      <td>FATAL</td>\n",
       "      <td>Y</td>\n",
       "      <td>1900-1905</td>\n",
       "    </tr>\n",
       "    <tr>\n",
       "      <th>6300</th>\n",
       "      <td>6300</td>\n",
       "      <td>Unprovoked</td>\n",
       "      <td>PANAMA</td>\n",
       "      <td>NaN</td>\n",
       "      <td>Panama Bay 8ºN, 79ºW</td>\n",
       "      <td>NaN</td>\n",
       "      <td>Jules Patterson</td>\n",
       "      <td>M</td>\n",
       "      <td>FATAL</td>\n",
       "      <td>Y</td>\n",
       "      <td>1883-1889</td>\n",
       "    </tr>\n",
       "    <tr>\n",
       "      <th>6301</th>\n",
       "      <td>6301</td>\n",
       "      <td>Unprovoked</td>\n",
       "      <td>CEYLON (SRI LANKA)</td>\n",
       "      <td>Eastern Province</td>\n",
       "      <td>Below the English fort, Trincomalee</td>\n",
       "      <td>Swimming</td>\n",
       "      <td>male</td>\n",
       "      <td>M</td>\n",
       "      <td>FATAL. \"Shark bit him in half, carrying away t...</td>\n",
       "      <td>Y</td>\n",
       "      <td>1845-1853</td>\n",
       "    </tr>\n",
       "  </tbody>\n",
       "</table>\n",
       "<p>6302 rows × 11 columns</p>\n",
       "</div>"
      ],
      "text/plain": [
       "      Unnamed: 0        Type             Country               Area  \\\n",
       "0              0     Boating                 USA         California   \n",
       "1              1  Unprovoked                 USA            Georgia   \n",
       "2              2     Invalid                 USA             Hawaii   \n",
       "3              3  Unprovoked           AUSTRALIA    New South Wales   \n",
       "4              4    Provoked              MEXICO             Colima   \n",
       "...          ...         ...                 ...                ...   \n",
       "6297        6297  Unprovoked           AUSTRALIA  Western Australia   \n",
       "6298        6298  Unprovoked           AUSTRALIA  Western Australia   \n",
       "6299        6299  Unprovoked                 USA     North Carolina   \n",
       "6300        6300  Unprovoked              PANAMA                NaN   \n",
       "6301        6301  Unprovoked  CEYLON (SRI LANKA)   Eastern Province   \n",
       "\n",
       "                                 Location      Activity  \\\n",
       "0             Oceanside, San Diego County      Paddling   \n",
       "1          St. Simon Island, Glynn County      Standing   \n",
       "2                            Habush, Oahu       Surfing   \n",
       "3                      Arrawarra Headland       Surfing   \n",
       "4                                La Ticla   Free diving   \n",
       "...                                   ...           ...   \n",
       "6297                          Roebuck Bay        Diving   \n",
       "6298                                  NaN  Pearl diving   \n",
       "6299                       Ocracoke Inlet      Swimming   \n",
       "6300                 Panama Bay 8ºN, 79ºW           NaN   \n",
       "6301  Below the English fort, Trincomalee      Swimming   \n",
       "\n",
       "                       Name Sex   \\\n",
       "0               Julie Wolfe    F   \n",
       "1           Adyson McNeely     F   \n",
       "2               John Denges    M   \n",
       "3                      male    M   \n",
       "4            Gustavo Ramos     M   \n",
       "...                     ...  ...   \n",
       "6297                   male    M   \n",
       "6298                  Ahmun    M   \n",
       "6299  Coast Guard personnel    M   \n",
       "6300        Jules Patterson    M   \n",
       "6301                   male    M   \n",
       "\n",
       "                                                 Injury Fatal (Y/N)       Date  \n",
       "0     No injury to occupant, outrigger canoe and pad...           N       2018  \n",
       "1                            Minor injury to left thigh           N       2018  \n",
       "2          Injury to left lower leg from surfboard skeg           N       2018  \n",
       "3                             Minor injury to lower leg           N       2018  \n",
       "4     Lacerations to leg & hand shark PROVOKED INCIDENT           N       2018  \n",
       "...                                                 ...         ...        ...  \n",
       "6297                                              FATAL           Y       1903  \n",
       "6298                                              FATAL           Y       1903  \n",
       "6299                                              FATAL           Y  1900-1905  \n",
       "6300                                              FATAL           Y  1883-1889  \n",
       "6301  FATAL. \"Shark bit him in half, carrying away t...           Y  1845-1853  \n",
       "\n",
       "[6302 rows x 11 columns]"
      ]
     },
     "execution_count": 7,
     "metadata": {},
     "output_type": "execute_result"
    }
   ],
   "source": [
    "attacks1 = attacks1.drop(columns=['Time','Species ','Investigator or Source', 'pdf', 'href formula', 'href','original order',\"Age\"])\n",
    "attacks1"
   ]
  },
  {
   "cell_type": "markdown",
   "metadata": {},
   "source": [
    "Voy a limpiar la columna de Sex. Antes de nada cambiarle el nombre"
   ]
  },
  {
   "cell_type": "code",
   "execution_count": 8,
   "metadata": {},
   "outputs": [],
   "source": [
    "attacks1[\"Sex\"]=attacks1[\"Sex \"]"
   ]
  },
  {
   "cell_type": "code",
   "execution_count": 9,
   "metadata": {},
   "outputs": [],
   "source": [
    "attacks1 = attacks1.drop(columns=\"Sex \")"
   ]
  },
  {
   "cell_type": "code",
   "execution_count": 10,
   "metadata": {},
   "outputs": [
    {
     "data": {
      "text/plain": [
       "M      5094\n",
       "F       637\n",
       "M         2\n",
       "N         2\n",
       "lli       1\n",
       ".         1\n",
       "Name: Sex, dtype: int64"
      ]
     },
     "execution_count": 10,
     "metadata": {},
     "output_type": "execute_result"
    }
   ],
   "source": [
    "attacks1[\"Sex\"].value_counts()"
   ]
  },
  {
   "cell_type": "code",
   "execution_count": 11,
   "metadata": {},
   "outputs": [
    {
     "data": {
      "text/plain": [
       "565"
      ]
     },
     "execution_count": 11,
     "metadata": {},
     "output_type": "execute_result"
    }
   ],
   "source": [
    "attacks1[\"Sex\"].isnull().sum()"
   ]
  },
  {
   "cell_type": "code",
   "execution_count": 12,
   "metadata": {},
   "outputs": [],
   "source": [
    "attacks1[\"Sex\"] = attacks1[\"Sex\"].fillna(\"NoData\")"
   ]
  },
  {
   "cell_type": "code",
   "execution_count": 13,
   "metadata": {},
   "outputs": [
    {
     "data": {
      "text/plain": [
       "0"
      ]
     },
     "execution_count": 13,
     "metadata": {},
     "output_type": "execute_result"
    }
   ],
   "source": [
    "attacks1[\"Sex\"].isnull().sum()"
   ]
  },
  {
   "cell_type": "code",
   "execution_count": 14,
   "metadata": {},
   "outputs": [
    {
     "data": {
      "text/plain": [
       "M         5094\n",
       "F          637\n",
       "NoData     565\n",
       "M            2\n",
       "N            2\n",
       "lli          1\n",
       ".            1\n",
       "Name: Sex, dtype: int64"
      ]
     },
     "execution_count": 14,
     "metadata": {},
     "output_type": "execute_result"
    }
   ],
   "source": [
    "attacks1[\"Sex\"].value_counts()"
   ]
  },
  {
   "cell_type": "code",
   "execution_count": 15,
   "metadata": {},
   "outputs": [],
   "source": [
    "attacks1.loc[attacks1[\"Sex\"].str.startswith(\"M\"),\"Sex\"] = \"M\""
   ]
  },
  {
   "cell_type": "code",
   "execution_count": 16,
   "metadata": {},
   "outputs": [
    {
     "data": {
      "text/plain": [
       "M         5096\n",
       "F          637\n",
       "NoData     565\n",
       "N            2\n",
       "lli          1\n",
       ".            1\n",
       "Name: Sex, dtype: int64"
      ]
     },
     "execution_count": 16,
     "metadata": {},
     "output_type": "execute_result"
    }
   ],
   "source": [
    "attacks1[\"Sex\"].value_counts()"
   ]
  },
  {
   "cell_type": "code",
   "execution_count": 17,
   "metadata": {},
   "outputs": [],
   "source": [
    "def genre(value):\n",
    "    value = re.sub(r\"^[^MF].*\",\"NoData\",value)\n",
    "    return value\n",
    "\n",
    "attacks1[\"Sex_2\"] = attacks1[\"Sex\"].apply(genre)"
   ]
  },
  {
   "cell_type": "code",
   "execution_count": 18,
   "metadata": {},
   "outputs": [
    {
     "data": {
      "text/plain": [
       "M         5096\n",
       "F          637\n",
       "NoData     569\n",
       "Name: Sex_2, dtype: int64"
      ]
     },
     "execution_count": 18,
     "metadata": {},
     "output_type": "execute_result"
    }
   ],
   "source": [
    "attacks1[\"Sex_2\"].value_counts()"
   ]
  },
  {
   "cell_type": "markdown",
   "metadata": {},
   "source": [
    "569 de 6302 son el 9% de los datos"
   ]
  },
  {
   "cell_type": "code",
   "execution_count": 19,
   "metadata": {},
   "outputs": [
    {
     "data": {
      "text/plain": [
       "<matplotlib.axes._subplots.AxesSubplot at 0x7f3f08f1e990>"
      ]
     },
     "execution_count": 19,
     "metadata": {},
     "output_type": "execute_result"
    },
    {
     "data": {
      "image/png": "[encoded data removed]",
      "text/plain": [
       "<Figure size 432x288 with 1 Axes>"
      ]
     },
     "metadata": {
      "needs_background": "light"
     },
     "output_type": "display_data"
    }
   ],
   "source": [
    "%matplotlib inline\n",
    "\n",
    "attacks1[\"Sex_2\"].value_counts().plot.bar()"
   ]
  },
  {
   "cell_type": "markdown",
   "metadata": {},
   "source": [
    "A priori podría parecer que la carne de hombre es más apetecible para los tiburones. Sin embargo, vamos a comparar sex con date"
   ]
  },
  {
   "cell_type": "code",
   "execution_count": 20,
   "metadata": {},
   "outputs": [
    {
     "data": {
      "text/plain": [
       "6302"
      ]
     },
     "execution_count": 20,
     "metadata": {},
     "output_type": "execute_result"
    }
   ],
   "source": [
    "attacks1[\"Date\"] = attacks1[\"Date\"].fillna(\"NoData\")\n",
    "attacks1[\"Date\"].value_counts().sum()"
   ]
  },
  {
   "cell_type": "code",
   "execution_count": 21,
   "metadata": {},
   "outputs": [
    {
     "data": {
      "text/plain": [
       "2015                          143\n",
       "2017                          137\n",
       "2016                          131\n",
       "2014                          128\n",
       "2011                          127\n",
       "                             ... \n",
       "1883 (probably happened Ca      1\n",
       "1771                            1\n",
       "1949-1950                       1\n",
       "1868 (?)                        1\n",
       "1952-1954                       1\n",
       "Name: Date, Length: 321, dtype: int64"
      ]
     },
     "execution_count": 21,
     "metadata": {},
     "output_type": "execute_result"
    }
   ],
   "source": [
    "attacks1[\"Date\"].value_counts()"
   ]
  },
  {
   "cell_type": "code",
   "execution_count": 22,
   "metadata": {},
   "outputs": [
    {
     "data": {
      "text/plain": [
       "0       2018\n",
       "1       2018\n",
       "2       2018\n",
       "3       2018\n",
       "4       2018\n",
       "        ... \n",
       "6297    1903\n",
       "6298    1903\n",
       "6299    1902\n",
       "6300    1886\n",
       "6301    1849\n",
       "Name: Date_mod, Length: 6302, dtype: object"
      ]
     },
     "execution_count": 22,
     "metadata": {},
     "output_type": "execute_result"
    }
   ],
   "source": [
    "def date_fn(value):\n",
    "    if (len(value)==4) | (value==\"NoData\"):\n",
    "        return value\n",
    "    else:\n",
    "        pattern = r'\\d{4}\\-\\d{4}.*'\n",
    "        if re.match(pattern, value):\n",
    "            value = value.split(\"-\")\n",
    "            value1 = value[0]\n",
    "            value2 = value[1]\n",
    "            value2 = re.search(r\"^\\d{4}\", value2)\n",
    "            value2 = value2.group()\n",
    "            value = [int(value1),int(value2)]\n",
    "            value_mean = int(sum(value)/len(value))\n",
    "            return str(value_mean)\n",
    "        else: \n",
    "            value = (re.search(r\"^\\d{4}\", value)).group()\n",
    "            return value\n",
    "\n",
    "\n",
    "attacks1[\"Date_mod\"] = attacks1[\"Date\"].apply(date_fn)\n",
    "attacks1[\"Date_mod\"]"
   ]
  },
  {
   "cell_type": "code",
   "execution_count": 23,
   "metadata": {},
   "outputs": [
    {
     "data": {
      "text/plain": [
       "count     6302\n",
       "unique     250\n",
       "top       2015\n",
       "freq       143\n",
       "Name: Date_mod, dtype: object"
      ]
     },
     "metadata": {},
     "output_type": "display_data"
    },
    {
     "data": {
      "text/plain": [
       "'NoData'"
      ]
     },
     "metadata": {},
     "output_type": "display_data"
    },
    {
     "data": {
      "text/plain": [
       "'1543'"
      ]
     },
     "metadata": {},
     "output_type": "display_data"
    },
    {
     "data": {
      "text/plain": [
       "0"
      ]
     },
     "execution_count": 23,
     "metadata": {},
     "output_type": "execute_result"
    }
   ],
   "source": [
    "display(attacks1[\"Date_mod\"].describe(), attacks1[\"Date_mod\"].max(), attacks1[\"Date_mod\"].min())\n",
    "attacks1[\"Date_mod\"].isnull().sum()"
   ]
  },
  {
   "cell_type": "code",
   "execution_count": 24,
   "metadata": {},
   "outputs": [],
   "source": [
    "def date_int(value):\n",
    "    if value == \"NoData\":\n",
    "        return 0\n",
    "    else:\n",
    "        value = int(value)\n",
    "        if value>2019:\n",
    "            value=0\n",
    "            return value\n",
    "        else:\n",
    "            return value\n",
    "\n",
    "attacks1[\"Date_mod2\"] = attacks1[\"Date_mod\"].apply(date_int)"
   ]
  },
  {
   "cell_type": "code",
   "execution_count": 25,
   "metadata": {},
   "outputs": [
    {
     "data": {
      "text/plain": [
       "20"
      ]
     },
     "execution_count": 25,
     "metadata": {},
     "output_type": "execute_result"
    }
   ],
   "source": [
    "attacks1.loc[attacks1[\"Date_mod2\"] == 0,\"Date_mod2\"] = np.nan\n",
    "attacks1[\"Date_mod2\"].isnull().sum()"
   ]
  },
  {
   "cell_type": "code",
   "execution_count": 26,
   "metadata": {},
   "outputs": [
    {
     "data": {
      "text/plain": [
       "count    6282.000000\n",
       "mean     1966.820917\n",
       "std        48.478998\n",
       "min      1543.000000\n",
       "25%      1944.000000\n",
       "50%      1978.000000\n",
       "75%      2005.000000\n",
       "max      2018.000000\n",
       "Name: Date_mod2, dtype: float64"
      ]
     },
     "execution_count": 26,
     "metadata": {},
     "output_type": "execute_result"
    }
   ],
   "source": [
    "attacks1[\"Date_mod2\"].describe()"
   ]
  },
  {
   "cell_type": "code",
   "execution_count": 27,
   "metadata": {},
   "outputs": [
    {
     "name": "stdout",
     "output_type": "stream",
     "text": [
      "[1539, 1589, 1639, 1689, 1739, 1789, 1839, 1889, 1939, 1989, 2039]\n",
      "[1550, 1600, 1650, 1700, 1750, 1800, 1850, 1900, 1950, 2000]\n"
     ]
    }
   ],
   "source": [
    "años = list(range(1539,2050,50))\n",
    "años2 = list(range(1550,2020,50))\n",
    "print(años)\n",
    "print(años2)"
   ]
  },
  {
   "cell_type": "code",
   "execution_count": 28,
   "metadata": {},
   "outputs": [],
   "source": [
    "attacks1[\"Decada\"] = pd.cut(attacks1[\"Date_mod2\"],bins=años,labels=años2)"
   ]
  },
  {
   "cell_type": "code",
   "execution_count": 29,
   "metadata": {},
   "outputs": [
    {
     "data": {
      "text/plain": [
       "<matplotlib.axes._subplots.AxesSubplot at 0x7f3f06e09a50>"
      ]
     },
     "execution_count": 29,
     "metadata": {},
     "output_type": "execute_result"
    },
    {
     "data": {
      "image/png": "[encoded data removed]",
      "text/plain": [
       "<Figure size 432x288 with 1 Axes>"
      ]
     },
     "metadata": {
      "needs_background": "light"
     },
     "output_type": "display_data"
    }
   ],
   "source": [
    "attacks1[\"Decada\"].value_counts().plot.bar()"
   ]
  },
  {
   "cell_type": "code",
   "execution_count": 30,
   "metadata": {},
   "outputs": [
    {
     "data": {
      "text/html": [
       "<div>\n",
       "<style scoped>\n",
       "    .dataframe tbody tr th:only-of-type {\n",
       "        vertical-align: middle;\n",
       "    }\n",
       "\n",
       "    .dataframe tbody tr th {\n",
       "        vertical-align: top;\n",
       "    }\n",
       "\n",
       "    .dataframe thead th {\n",
       "        text-align: right;\n",
       "    }\n",
       "</style>\n",
       "<table border=\"1\" class=\"dataframe\">\n",
       "  <thead>\n",
       "    <tr style=\"text-align: right;\">\n",
       "      <th></th>\n",
       "      <th>index</th>\n",
       "      <th>Decada</th>\n",
       "    </tr>\n",
       "  </thead>\n",
       "  <tbody>\n",
       "    <tr>\n",
       "      <th>8</th>\n",
       "      <td>1550</td>\n",
       "      <td>4</td>\n",
       "    </tr>\n",
       "    <tr>\n",
       "      <th>7</th>\n",
       "      <td>1600</td>\n",
       "      <td>5</td>\n",
       "    </tr>\n",
       "    <tr>\n",
       "      <th>9</th>\n",
       "      <td>1650</td>\n",
       "      <td>1</td>\n",
       "    </tr>\n",
       "    <tr>\n",
       "      <th>6</th>\n",
       "      <td>1700</td>\n",
       "      <td>8</td>\n",
       "    </tr>\n",
       "    <tr>\n",
       "      <th>5</th>\n",
       "      <td>1750</td>\n",
       "      <td>20</td>\n",
       "    </tr>\n",
       "    <tr>\n",
       "      <th>4</th>\n",
       "      <td>1800</td>\n",
       "      <td>65</td>\n",
       "    </tr>\n",
       "    <tr>\n",
       "      <th>3</th>\n",
       "      <td>1850</td>\n",
       "      <td>363</td>\n",
       "    </tr>\n",
       "    <tr>\n",
       "      <th>2</th>\n",
       "      <td>1900</td>\n",
       "      <td>967</td>\n",
       "    </tr>\n",
       "    <tr>\n",
       "      <th>1</th>\n",
       "      <td>1950</td>\n",
       "      <td>2180</td>\n",
       "    </tr>\n",
       "    <tr>\n",
       "      <th>0</th>\n",
       "      <td>2000</td>\n",
       "      <td>2669</td>\n",
       "    </tr>\n",
       "  </tbody>\n",
       "</table>\n",
       "</div>"
      ],
      "text/plain": [
       "  index  Decada\n",
       "8  1550       4\n",
       "7  1600       5\n",
       "9  1650       1\n",
       "6  1700       8\n",
       "5  1750      20\n",
       "4  1800      65\n",
       "3  1850     363\n",
       "2  1900     967\n",
       "1  1950    2180\n",
       "0  2000    2669"
      ]
     },
     "execution_count": 30,
     "metadata": {},
     "output_type": "execute_result"
    }
   ],
   "source": [
    "attacks1[\"Decada\"].value_counts().reset_index().sort_values('index')"
   ]
  },
  {
   "cell_type": "markdown",
   "metadata": {},
   "source": [
    "Solo voy a tener en cuenta a partir de 1850, antes hay pocos casos registrados"
   ]
  },
  {
   "cell_type": "code",
   "execution_count": 31,
   "metadata": {},
   "outputs": [
    {
     "data": {
      "text/html": [
       "<div>\n",
       "<style scoped>\n",
       "    .dataframe tbody tr th:only-of-type {\n",
       "        vertical-align: middle;\n",
       "    }\n",
       "\n",
       "    .dataframe tbody tr th {\n",
       "        vertical-align: top;\n",
       "    }\n",
       "\n",
       "    .dataframe thead th {\n",
       "        text-align: right;\n",
       "    }\n",
       "</style>\n",
       "<table border=\"1\" class=\"dataframe\">\n",
       "  <thead>\n",
       "    <tr style=\"text-align: right;\">\n",
       "      <th></th>\n",
       "      <th>Decada</th>\n",
       "      <th>Sex_2</th>\n",
       "    </tr>\n",
       "  </thead>\n",
       "  <tbody>\n",
       "    <tr>\n",
       "      <th>0</th>\n",
       "      <td>2000</td>\n",
       "      <td>F</td>\n",
       "    </tr>\n",
       "    <tr>\n",
       "      <th>1</th>\n",
       "      <td>2000</td>\n",
       "      <td>F</td>\n",
       "    </tr>\n",
       "    <tr>\n",
       "      <th>2</th>\n",
       "      <td>2000</td>\n",
       "      <td>M</td>\n",
       "    </tr>\n",
       "    <tr>\n",
       "      <th>3</th>\n",
       "      <td>2000</td>\n",
       "      <td>M</td>\n",
       "    </tr>\n",
       "    <tr>\n",
       "      <th>4</th>\n",
       "      <td>2000</td>\n",
       "      <td>M</td>\n",
       "    </tr>\n",
       "    <tr>\n",
       "      <th>...</th>\n",
       "      <td>...</td>\n",
       "      <td>...</td>\n",
       "    </tr>\n",
       "    <tr>\n",
       "      <th>6297</th>\n",
       "      <td>1900</td>\n",
       "      <td>M</td>\n",
       "    </tr>\n",
       "    <tr>\n",
       "      <th>6298</th>\n",
       "      <td>1900</td>\n",
       "      <td>M</td>\n",
       "    </tr>\n",
       "    <tr>\n",
       "      <th>6299</th>\n",
       "      <td>1900</td>\n",
       "      <td>M</td>\n",
       "    </tr>\n",
       "    <tr>\n",
       "      <th>6300</th>\n",
       "      <td>1850</td>\n",
       "      <td>M</td>\n",
       "    </tr>\n",
       "    <tr>\n",
       "      <th>6301</th>\n",
       "      <td>1850</td>\n",
       "      <td>M</td>\n",
       "    </tr>\n",
       "  </tbody>\n",
       "</table>\n",
       "<p>6302 rows × 2 columns</p>\n",
       "</div>"
      ],
      "text/plain": [
       "     Decada Sex_2\n",
       "0      2000     F\n",
       "1      2000     F\n",
       "2      2000     M\n",
       "3      2000     M\n",
       "4      2000     M\n",
       "...     ...   ...\n",
       "6297   1900     M\n",
       "6298   1900     M\n",
       "6299   1900     M\n",
       "6300   1850     M\n",
       "6301   1850     M\n",
       "\n",
       "[6302 rows x 2 columns]"
      ]
     },
     "execution_count": 31,
     "metadata": {},
     "output_type": "execute_result"
    }
   ],
   "source": [
    "attacks_sex_decade = attacks1[[\"Decada\",\"Sex_2\"]]\n",
    "attacks_sex_decade"
   ]
  },
  {
   "cell_type": "code",
   "execution_count": 32,
   "metadata": {},
   "outputs": [
    {
     "data": {
      "text/plain": [
       "Int64Index([4078, 4644, 4802, 4838, 6071, 6072, 6073, 6074, 6075, 6076,\n",
       "            ...\n",
       "            6180, 6217, 6218, 6261, 6271, 6272, 6275, 6279, 6280, 6281],\n",
       "           dtype='int64', length=123)"
      ]
     },
     "execution_count": 32,
     "metadata": {},
     "output_type": "execute_result"
    }
   ],
   "source": [
    "lessthan1850orNull =attacks_sex_decade[(attacks_sex_decade[\"Decada\"].values < 1850)|(attacks_sex_decade[\"Decada\"].values.isnull())].index\n",
    "lessthan1850orNull"
   ]
  },
  {
   "cell_type": "code",
   "execution_count": 33,
   "metadata": {},
   "outputs": [],
   "source": [
    "attacks_sex_decade_Transp = attacks_sex_decade.T"
   ]
  },
  {
   "cell_type": "code",
   "execution_count": 34,
   "metadata": {},
   "outputs": [],
   "source": [
    "attacks_sex_decade_Transp = attacks_sex_decade_Transp.drop(columns=lessthan1850orNull)"
   ]
  },
  {
   "cell_type": "code",
   "execution_count": 35,
   "metadata": {},
   "outputs": [],
   "source": [
    "attacks_sex_decade = attacks_sex_decade_Transp.T"
   ]
  },
  {
   "cell_type": "code",
   "execution_count": 36,
   "metadata": {},
   "outputs": [
    {
     "data": {
      "text/html": [
       "<div>\n",
       "<style scoped>\n",
       "    .dataframe tbody tr th:only-of-type {\n",
       "        vertical-align: middle;\n",
       "    }\n",
       "\n",
       "    .dataframe tbody tr th {\n",
       "        vertical-align: top;\n",
       "    }\n",
       "\n",
       "    .dataframe thead th {\n",
       "        text-align: right;\n",
       "    }\n",
       "</style>\n",
       "<table border=\"1\" class=\"dataframe\">\n",
       "  <thead>\n",
       "    <tr style=\"text-align: right;\">\n",
       "      <th></th>\n",
       "      <th>Decada</th>\n",
       "      <th>Sex_2</th>\n",
       "    </tr>\n",
       "  </thead>\n",
       "  <tbody>\n",
       "    <tr>\n",
       "      <th>0</th>\n",
       "      <td>2000</td>\n",
       "      <td>F</td>\n",
       "    </tr>\n",
       "    <tr>\n",
       "      <th>1</th>\n",
       "      <td>2000</td>\n",
       "      <td>F</td>\n",
       "    </tr>\n",
       "    <tr>\n",
       "      <th>2</th>\n",
       "      <td>2000</td>\n",
       "      <td>M</td>\n",
       "    </tr>\n",
       "    <tr>\n",
       "      <th>3</th>\n",
       "      <td>2000</td>\n",
       "      <td>M</td>\n",
       "    </tr>\n",
       "    <tr>\n",
       "      <th>4</th>\n",
       "      <td>2000</td>\n",
       "      <td>M</td>\n",
       "    </tr>\n",
       "    <tr>\n",
       "      <th>...</th>\n",
       "      <td>...</td>\n",
       "      <td>...</td>\n",
       "    </tr>\n",
       "    <tr>\n",
       "      <th>6297</th>\n",
       "      <td>1900</td>\n",
       "      <td>M</td>\n",
       "    </tr>\n",
       "    <tr>\n",
       "      <th>6298</th>\n",
       "      <td>1900</td>\n",
       "      <td>M</td>\n",
       "    </tr>\n",
       "    <tr>\n",
       "      <th>6299</th>\n",
       "      <td>1900</td>\n",
       "      <td>M</td>\n",
       "    </tr>\n",
       "    <tr>\n",
       "      <th>6300</th>\n",
       "      <td>1850</td>\n",
       "      <td>M</td>\n",
       "    </tr>\n",
       "    <tr>\n",
       "      <th>6301</th>\n",
       "      <td>1850</td>\n",
       "      <td>M</td>\n",
       "    </tr>\n",
       "  </tbody>\n",
       "</table>\n",
       "<p>6179 rows × 2 columns</p>\n",
       "</div>"
      ],
      "text/plain": [
       "     Decada Sex_2\n",
       "0      2000     F\n",
       "1      2000     F\n",
       "2      2000     M\n",
       "3      2000     M\n",
       "4      2000     M\n",
       "...     ...   ...\n",
       "6297   1900     M\n",
       "6298   1900     M\n",
       "6299   1900     M\n",
       "6300   1850     M\n",
       "6301   1850     M\n",
       "\n",
       "[6179 rows x 2 columns]"
      ]
     },
     "execution_count": 36,
     "metadata": {},
     "output_type": "execute_result"
    }
   ],
   "source": [
    "attacks_sex_decade"
   ]
  },
  {
   "cell_type": "code",
   "execution_count": 37,
   "metadata": {},
   "outputs": [
    {
     "data": {
      "text/plain": [
       "0       0\n",
       "1       0\n",
       "2       1\n",
       "3       1\n",
       "4       1\n",
       "       ..\n",
       "6297    1\n",
       "6298    1\n",
       "6299    1\n",
       "6300    1\n",
       "6301    1\n",
       "Name: hombre, Length: 6179, dtype: int64"
      ]
     },
     "execution_count": 37,
     "metadata": {},
     "output_type": "execute_result"
    }
   ],
   "source": [
    "attacks_sex_decade[\"hombre\"] = np.where(attacks_sex_decade[\"Sex_2\"].isin([\"M\"]), 1, 0)\n",
    "attacks_sex_decade[\"hombre\"] "
   ]
  },
  {
   "cell_type": "code",
   "execution_count": 38,
   "metadata": {},
   "outputs": [
    {
     "data": {
      "text/plain": [
       "0       1\n",
       "1       1\n",
       "2       0\n",
       "3       0\n",
       "4       0\n",
       "       ..\n",
       "6297    0\n",
       "6298    0\n",
       "6299    0\n",
       "6300    0\n",
       "6301    0\n",
       "Name: mujer, Length: 6179, dtype: int64"
      ]
     },
     "execution_count": 38,
     "metadata": {},
     "output_type": "execute_result"
    }
   ],
   "source": [
    "attacks_sex_decade[\"mujer\"] = np.where(attacks_sex_decade[\"Sex_2\"].isin([\"F\"]), 1, 0)\n",
    "attacks_sex_decade[\"mujer\"] "
   ]
  },
  {
   "cell_type": "code",
   "execution_count": 39,
   "metadata": {},
   "outputs": [
    {
     "data": {
      "text/html": [
       "<div>\n",
       "<style scoped>\n",
       "    .dataframe tbody tr th:only-of-type {\n",
       "        vertical-align: middle;\n",
       "    }\n",
       "\n",
       "    .dataframe tbody tr th {\n",
       "        vertical-align: top;\n",
       "    }\n",
       "\n",
       "    .dataframe thead th {\n",
       "        text-align: right;\n",
       "    }\n",
       "</style>\n",
       "<table border=\"1\" class=\"dataframe\">\n",
       "  <thead>\n",
       "    <tr style=\"text-align: right;\">\n",
       "      <th></th>\n",
       "      <th>Decada</th>\n",
       "      <th>Sex_2</th>\n",
       "      <th>hombre</th>\n",
       "      <th>mujer</th>\n",
       "    </tr>\n",
       "  </thead>\n",
       "  <tbody>\n",
       "    <tr>\n",
       "      <th>0</th>\n",
       "      <td>2000</td>\n",
       "      <td>F</td>\n",
       "      <td>0</td>\n",
       "      <td>1</td>\n",
       "    </tr>\n",
       "    <tr>\n",
       "      <th>1</th>\n",
       "      <td>2000</td>\n",
       "      <td>F</td>\n",
       "      <td>0</td>\n",
       "      <td>1</td>\n",
       "    </tr>\n",
       "    <tr>\n",
       "      <th>2</th>\n",
       "      <td>2000</td>\n",
       "      <td>M</td>\n",
       "      <td>1</td>\n",
       "      <td>0</td>\n",
       "    </tr>\n",
       "    <tr>\n",
       "      <th>3</th>\n",
       "      <td>2000</td>\n",
       "      <td>M</td>\n",
       "      <td>1</td>\n",
       "      <td>0</td>\n",
       "    </tr>\n",
       "    <tr>\n",
       "      <th>4</th>\n",
       "      <td>2000</td>\n",
       "      <td>M</td>\n",
       "      <td>1</td>\n",
       "      <td>0</td>\n",
       "    </tr>\n",
       "    <tr>\n",
       "      <th>...</th>\n",
       "      <td>...</td>\n",
       "      <td>...</td>\n",
       "      <td>...</td>\n",
       "      <td>...</td>\n",
       "    </tr>\n",
       "    <tr>\n",
       "      <th>6297</th>\n",
       "      <td>1900</td>\n",
       "      <td>M</td>\n",
       "      <td>1</td>\n",
       "      <td>0</td>\n",
       "    </tr>\n",
       "    <tr>\n",
       "      <th>6298</th>\n",
       "      <td>1900</td>\n",
       "      <td>M</td>\n",
       "      <td>1</td>\n",
       "      <td>0</td>\n",
       "    </tr>\n",
       "    <tr>\n",
       "      <th>6299</th>\n",
       "      <td>1900</td>\n",
       "      <td>M</td>\n",
       "      <td>1</td>\n",
       "      <td>0</td>\n",
       "    </tr>\n",
       "    <tr>\n",
       "      <th>6300</th>\n",
       "      <td>1850</td>\n",
       "      <td>M</td>\n",
       "      <td>1</td>\n",
       "      <td>0</td>\n",
       "    </tr>\n",
       "    <tr>\n",
       "      <th>6301</th>\n",
       "      <td>1850</td>\n",
       "      <td>M</td>\n",
       "      <td>1</td>\n",
       "      <td>0</td>\n",
       "    </tr>\n",
       "  </tbody>\n",
       "</table>\n",
       "<p>6179 rows × 4 columns</p>\n",
       "</div>"
      ],
      "text/plain": [
       "     Decada Sex_2  hombre  mujer\n",
       "0      2000     F       0      1\n",
       "1      2000     F       0      1\n",
       "2      2000     M       1      0\n",
       "3      2000     M       1      0\n",
       "4      2000     M       1      0\n",
       "...     ...   ...     ...    ...\n",
       "6297   1900     M       1      0\n",
       "6298   1900     M       1      0\n",
       "6299   1900     M       1      0\n",
       "6300   1850     M       1      0\n",
       "6301   1850     M       1      0\n",
       "\n",
       "[6179 rows x 4 columns]"
      ]
     },
     "execution_count": 39,
     "metadata": {},
     "output_type": "execute_result"
    }
   ],
   "source": [
    "attacks_sex_decade"
   ]
  },
  {
   "cell_type": "code",
   "execution_count": 40,
   "metadata": {},
   "outputs": [
    {
     "data": {
      "text/html": [
       "<div>\n",
       "<style scoped>\n",
       "    .dataframe tbody tr th:only-of-type {\n",
       "        vertical-align: middle;\n",
       "    }\n",
       "\n",
       "    .dataframe tbody tr th {\n",
       "        vertical-align: top;\n",
       "    }\n",
       "\n",
       "    .dataframe thead th {\n",
       "        text-align: right;\n",
       "    }\n",
       "</style>\n",
       "<table border=\"1\" class=\"dataframe\">\n",
       "  <thead>\n",
       "    <tr style=\"text-align: right;\">\n",
       "      <th></th>\n",
       "      <th>hombre</th>\n",
       "      <th>mujer</th>\n",
       "    </tr>\n",
       "    <tr>\n",
       "      <th>Decada</th>\n",
       "      <th></th>\n",
       "      <th></th>\n",
       "    </tr>\n",
       "  </thead>\n",
       "  <tbody>\n",
       "    <tr>\n",
       "      <th>1850.0</th>\n",
       "      <td>323</td>\n",
       "      <td>12</td>\n",
       "    </tr>\n",
       "    <tr>\n",
       "      <th>1900.0</th>\n",
       "      <td>829</td>\n",
       "      <td>56</td>\n",
       "    </tr>\n",
       "    <tr>\n",
       "      <th>1950.0</th>\n",
       "      <td>1749</td>\n",
       "      <td>145</td>\n",
       "    </tr>\n",
       "    <tr>\n",
       "      <th>2000.0</th>\n",
       "      <td>2093</td>\n",
       "      <td>418</td>\n",
       "    </tr>\n",
       "  </tbody>\n",
       "</table>\n",
       "</div>"
      ],
      "text/plain": [
       "        hombre  mujer\n",
       "Decada               \n",
       "1850.0     323     12\n",
       "1900.0     829     56\n",
       "1950.0    1749    145\n",
       "2000.0    2093    418"
      ]
     },
     "execution_count": 40,
     "metadata": {},
     "output_type": "execute_result"
    }
   ],
   "source": [
    "nueva = pd.pivot_table(attacks_sex_decade,index=['Decada'],values=['hombre',\"mujer\"],aggfunc={'hombre': 'sum', \"mujer\": 'sum'})\n",
    "nueva"
   ]
  },
  {
   "cell_type": "code",
   "execution_count": 41,
   "metadata": {},
   "outputs": [
    {
     "data": {
      "text/plain": [
       "<matplotlib.axes._subplots.AxesSubplot at 0x7f3f066af910>"
      ]
     },
     "execution_count": 41,
     "metadata": {},
     "output_type": "execute_result"
    },
    {
     "data": {
      "image/png": "[encoded data removed]",
      "text/plain": [
       "<Figure size 432x288 with 1 Axes>"
      ]
     },
     "metadata": {
      "needs_background": "light"
     },
     "output_type": "display_data"
    }
   ],
   "source": [
    "nueva.plot.bar()"
   ]
  },
  {
   "cell_type": "code",
   "execution_count": 42,
   "metadata": {},
   "outputs": [
    {
     "data": {
      "text/plain": [
       "hombre    4994\n",
       "mujer      631\n",
       "dtype: int64"
      ]
     },
     "execution_count": 42,
     "metadata": {},
     "output_type": "execute_result"
    }
   ],
   "source": [
    "nueva.sum()"
   ]
  },
  {
   "cell_type": "code",
   "execution_count": 43,
   "metadata": {},
   "outputs": [
    {
     "data": {
      "text/plain": [
       "0.8878222222222222"
      ]
     },
     "execution_count": 43,
     "metadata": {},
     "output_type": "execute_result"
    }
   ],
   "source": [
    "nueva.hombre.sum()/(nueva.hombre.sum()+nueva.mujer.sum())"
   ]
  },
  {
   "cell_type": "code",
   "execution_count": 44,
   "metadata": {},
   "outputs": [
    {
     "name": "stdout",
     "output_type": "stream",
     "text": [
      "323 335 96.41791044776119\n",
      "12 335 3.582089552238806\n",
      "829 885 93.67231638418079\n",
      "56 885 6.3276836158192085\n",
      "1749 1894 92.34424498416051\n",
      "145 1894 7.655755015839494\n",
      "2093 2511 83.35324571883712\n",
      "418 2511 16.646754281162885\n"
     ]
    }
   ],
   "source": [
    "lista = []\n",
    "for i in range(4):\n",
    "    print(nueva.hombre.iloc[i], nueva.iloc[i].sum(), nueva.hombre.iloc[i]/nueva.iloc[i].sum()*100)\n",
    "    print(nueva.mujer.iloc[i], nueva.iloc[i].sum(), nueva.mujer.iloc[i]/nueva.iloc[i].sum()*100)\n",
    "    lista.append((nueva.hombre.iloc[i]/nueva.iloc[i].sum()*100,nueva.mujer.iloc[i]/nueva.iloc[i].sum()*100))\n",
    "    "
   ]
  },
  {
   "cell_type": "code",
   "execution_count": 45,
   "metadata": {},
   "outputs": [],
   "source": [
    "Decada = [\"1850\",\"1900\",\"1950\",\"2000\"]\n",
    "\n",
    "data = pd.DataFrame(lista, index = Decada,columns=[\"hombre\",\"mujer\"])"
   ]
  },
  {
   "cell_type": "code",
   "execution_count": 46,
   "metadata": {},
   "outputs": [
    {
     "data": {
      "text/html": [
       "<div>\n",
       "<style scoped>\n",
       "    .dataframe tbody tr th:only-of-type {\n",
       "        vertical-align: middle;\n",
       "    }\n",
       "\n",
       "    .dataframe tbody tr th {\n",
       "        vertical-align: top;\n",
       "    }\n",
       "\n",
       "    .dataframe thead th {\n",
       "        text-align: right;\n",
       "    }\n",
       "</style>\n",
       "<table border=\"1\" class=\"dataframe\">\n",
       "  <thead>\n",
       "    <tr style=\"text-align: right;\">\n",
       "      <th></th>\n",
       "      <th>hombre</th>\n",
       "      <th>mujer</th>\n",
       "    </tr>\n",
       "  </thead>\n",
       "  <tbody>\n",
       "    <tr>\n",
       "      <th>1850</th>\n",
       "      <td>96.417910</td>\n",
       "      <td>3.582090</td>\n",
       "    </tr>\n",
       "    <tr>\n",
       "      <th>1900</th>\n",
       "      <td>93.672316</td>\n",
       "      <td>6.327684</td>\n",
       "    </tr>\n",
       "    <tr>\n",
       "      <th>1950</th>\n",
       "      <td>92.344245</td>\n",
       "      <td>7.655755</td>\n",
       "    </tr>\n",
       "    <tr>\n",
       "      <th>2000</th>\n",
       "      <td>83.353246</td>\n",
       "      <td>16.646754</td>\n",
       "    </tr>\n",
       "  </tbody>\n",
       "</table>\n",
       "</div>"
      ],
      "text/plain": [
       "         hombre      mujer\n",
       "1850  96.417910   3.582090\n",
       "1900  93.672316   6.327684\n",
       "1950  92.344245   7.655755\n",
       "2000  83.353246  16.646754"
      ]
     },
     "execution_count": 46,
     "metadata": {},
     "output_type": "execute_result"
    }
   ],
   "source": [
    "data"
   ]
  },
  {
   "cell_type": "code",
   "execution_count": 47,
   "metadata": {},
   "outputs": [
    {
     "data": {
      "text/html": [
       "<div>\n",
       "<style scoped>\n",
       "    .dataframe tbody tr th:only-of-type {\n",
       "        vertical-align: middle;\n",
       "    }\n",
       "\n",
       "    .dataframe tbody tr th {\n",
       "        vertical-align: top;\n",
       "    }\n",
       "\n",
       "    .dataframe thead th {\n",
       "        text-align: right;\n",
       "    }\n",
       "</style>\n",
       "<table border=\"1\" class=\"dataframe\">\n",
       "  <thead>\n",
       "    <tr style=\"text-align: right;\">\n",
       "      <th></th>\n",
       "      <th>hombre</th>\n",
       "      <th>mujer</th>\n",
       "    </tr>\n",
       "  </thead>\n",
       "  <tbody>\n",
       "    <tr>\n",
       "      <th>1850</th>\n",
       "      <td>96.417910</td>\n",
       "      <td>3.582090</td>\n",
       "    </tr>\n",
       "    <tr>\n",
       "      <th>1900</th>\n",
       "      <td>93.672316</td>\n",
       "      <td>6.327684</td>\n",
       "    </tr>\n",
       "    <tr>\n",
       "      <th>1950</th>\n",
       "      <td>92.344245</td>\n",
       "      <td>7.655755</td>\n",
       "    </tr>\n",
       "    <tr>\n",
       "      <th>2000</th>\n",
       "      <td>83.353246</td>\n",
       "      <td>16.646754</td>\n",
       "    </tr>\n",
       "  </tbody>\n",
       "</table>\n",
       "</div>"
      ],
      "text/plain": [
       "         hombre      mujer\n",
       "1850  96.417910   3.582090\n",
       "1900  93.672316   6.327684\n",
       "1950  92.344245   7.655755\n",
       "2000  83.353246  16.646754"
      ]
     },
     "execution_count": 47,
     "metadata": {},
     "output_type": "execute_result"
    }
   ],
   "source": [
    "nueva = pd.pivot_table(data,index=Decada,values=['hombre',\"mujer\"])\n",
    "nueva"
   ]
  },
  {
   "cell_type": "code",
   "execution_count": 48,
   "metadata": {},
   "outputs": [
    {
     "data": {
      "text/plain": [
       "<matplotlib.axes._subplots.AxesSubplot at 0x7f3f06213ed0>"
      ]
     },
     "execution_count": 48,
     "metadata": {},
     "output_type": "execute_result"
    },
    {
     "data": {
      "image/png": "[encoded data removed]",
      "text/plain": [
       "<Figure size 432x288 with 1 Axes>"
      ]
     },
     "metadata": {
      "needs_background": "light"
     },
     "output_type": "display_data"
    }
   ],
   "source": [
    "nueva.plot.bar()"
   ]
  },
  {
   "cell_type": "code",
   "execution_count": 49,
   "metadata": {},
   "outputs": [
    {
     "data": {
      "text/plain": [
       "Surfing                                971\n",
       "Swimming                               869\n",
       "Fishing                                431\n",
       "Spearfishing                           333\n",
       "Bathing                                162\n",
       "                                      ... \n",
       "Fishing for yellowtail                   1\n",
       "Walking in shallows                      1\n",
       "Killing a shark                          1\n",
       "Free diving for abalone (ascending)      1\n",
       "Playing with an air mattress             1\n",
       "Name: Activity, Length: 1532, dtype: int64"
      ]
     },
     "execution_count": 49,
     "metadata": {},
     "output_type": "execute_result"
    }
   ],
   "source": [
    "attacks1[\"Activity\"].value_counts()"
   ]
  },
  {
   "cell_type": "code",
   "execution_count": 103,
   "metadata": {},
   "outputs": [
    {
     "data": {
      "text/plain": [
       "Water sports                                                                          1428\n",
       "Fishing                                                                               1191\n",
       "Swimming                                                                              1089\n",
       "nan                                                                                    544\n",
       "Diving                                                                                 517\n",
       "                                                                                      ... \n",
       "Crossing the river mouth                                                                 1\n",
       "In waist-deep water                                                                      1\n",
       "Lobstering                                                                               1\n",
       "Explosion & sinking of the USS Juneau after being torpedoed by the submarine  I-85       1\n",
       "Testing anti-shark cage                                                                  1\n",
       "Name: Activity2, Length: 447, dtype: int64"
      ]
     },
     "execution_count": 103,
     "metadata": {},
     "output_type": "execute_result"
    }
   ],
   "source": [
    "def activ(value):\n",
    "    value = str(value)\n",
    "    if value==None:\n",
    "        return value\n",
    "    elif re.search(r\".*(s|S)urf.*\", value):\n",
    "        return \"Water sports\"\n",
    "    elif re.search(r\".*(p|P)addl(e|i).*\",value):\n",
    "        return \"Water sports\"\n",
    "    elif re.search(r\".*(b|B)oarding.*\", value):\n",
    "        return \"Water sports\"\n",
    "    elif re.search(r\".*(b|B)ath.*\", value):\n",
    "        return \"Bathing\"\n",
    "    elif re.search(r\".*(f|F)ish.*\", value):\n",
    "        return \"Fishing\"\n",
    "    elif re.search(r\".*(s|S)wim.*\", value):\n",
    "        return \"Swimming\"\n",
    "    elif re.search(r\".*(a|A)ir mattress.*\",value):\n",
    "        return \"Bathing\"\n",
    "    elif re.search(r\".*(f|F)loat.*\",value):\n",
    "        return \"Bathing\"\n",
    "    elif re.search(r\".*(d|D)iv(e|i).*\",value):\n",
    "        return \"Diving\"\n",
    "    elif re.search(r\".*(s|S)norkel.*\",value):\n",
    "        return \"Snorkeling\"\n",
    "    elif re.search(r\".*(s|S)hip.*\",value):\n",
    "        return \"Ship/Boat\"\n",
    "    elif re.search(r\".*(b|B)oat.*\",value):\n",
    "        return \"Ship/Boat\"\n",
    "    elif re.search(r\".*(w|W)reck.*\",value):\n",
    "        return \"Ship/Boat\"\n",
    "    elif re.search(r\".*(o|O)verboard.*\",value):\n",
    "        return \"Ship/Boat\"\n",
    "    elif re.search(r\".*(k|K)ayak.*\",value):\n",
    "        return \"Kayaking\"\n",
    "    elif re.search(r\".*(c|C)anoe.*\",value):\n",
    "        return \"Kayaking\"\n",
    "    elif re.search(r\".*(f|F)edd.*\",value):\n",
    "        return \"Feeding sharks\"\n",
    "    elif re.search(r\".*(a|A)ir.*disaster.*\",value):\n",
    "        return \"Aircraft accident\"\n",
    "    elif re.search(r\".*(a|A)ircraft.*\",value):\n",
    "        return \"Aircraft accident\"\n",
    "    elif re.search(r\".*(f|F)ilm.*\",value):\n",
    "        return \"Film/photo sharks\"\n",
    "    elif re.search(r\".*(p|P)hoto.*\",value):\n",
    "        return \"Film/photo sharks\"\n",
    "    \n",
    "    else:\n",
    "        return value\n",
    "\n",
    "attacks1[\"Activity2\"] = attacks1[\"Activity\"].apply(activ)\n",
    "attacks1[\"Activity2\"].value_counts()"
   ]
  },
  {
   "cell_type": "code",
   "execution_count": 105,
   "metadata": {},
   "outputs": [
    {
     "data": {
      "text/plain": [
       "Unprovoked      4595\n",
       "Provoked         574\n",
       "Invalid          547\n",
       "Sea Disaster     239\n",
       "Boating          203\n",
       "Boat             137\n",
       "Questionable       2\n",
       "Boatomg            1\n",
       "Name: Type, dtype: int64"
      ]
     },
     "execution_count": 105,
     "metadata": {},
     "output_type": "execute_result"
    }
   ],
   "source": [
    "attacks1[\"Type\"].value_counts()"
   ]
  },
  {
   "cell_type": "code",
   "execution_count": 58,
   "metadata": {},
   "outputs": [
    {
     "data": {
      "text/plain": [
       "544"
      ]
     },
     "execution_count": 58,
     "metadata": {},
     "output_type": "execute_result"
    }
   ],
   "source": []
  },
  {
   "cell_type": "code",
   "execution_count": null,
   "metadata": {},
   "outputs": [],
   "source": []
  }
 ],
 "metadata": {
  "kernelspec": {
   "display_name": "Python 3",
   "language": "python",
   "name": "python3"
  },
  "language_info": {
   "codemirror_mode": {
    "name": "ipython",
    "version": 3
   },
   "file_extension": ".py",
   "mimetype": "text/x-python",
   "name": "python",
   "nbconvert_exporter": "python",
   "pygments_lexer": "ipython3",
   "version": "3.7.5"
  }
 },
 "nbformat": 4,
 "nbformat_minor": 4
}
